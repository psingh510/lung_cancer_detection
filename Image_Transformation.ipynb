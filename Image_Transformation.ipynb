{
 "cells": [
  {
   "cell_type": "code",
   "execution_count": 10,
   "id": "7a633188",
   "metadata": {},
   "outputs": [],
   "source": [
    "import os\n",
    "import numpy as np\n",
    "from PIL import Image\n",
    "import re\n",
    "from scipy.ndimage import gaussian_filter"
   ]
  },
  {
   "cell_type": "code",
   "execution_count": 2,
   "id": "e679b0ab",
   "metadata": {},
   "outputs": [],
   "source": [
    "# Folder containing the Z projection images\n",
    "folder_path = '/Users/pallavisingh/Library/CloudStorage/OneDrive-DalhousieUniversity/MLOPs Project/PMLBodies'  # Update this with your actual folder path\n",
    "\n",
    "# Regular expression to match filenames of the format 'SAEC exp1 As High 63x - Position 1_ZXX_C1'\n",
    "pattern = re.compile(r'SAEC exp1 As High 63x - Position 1_Z(\\d+)_C1\\.tif')\n",
    "\n",
    "# Get the list of matching TIFF images in the folder\n",
    "tif_files = [f for f in os.listdir(folder_path) if pattern.match(f)]"
   ]
  },
  {
   "cell_type": "code",
   "execution_count": 3,
   "id": "fdcfa041",
   "metadata": {},
   "outputs": [
    {
     "data": {
      "text/plain": [
       "37"
      ]
     },
     "execution_count": 3,
     "metadata": {},
     "output_type": "execute_result"
    }
   ],
   "source": [
    "len(tif_files)"
   ]
  },
  {
   "cell_type": "code",
   "execution_count": 4,
   "id": "ff1217a2",
   "metadata": {},
   "outputs": [],
   "source": [
    "# Sort the files by Z-index (the number after 'Z' in the filename)\n",
    "tif_files.sort(key=lambda x: int(pattern.match(x).group(1)))\n",
    "\n",
    "# Load the first image to initialize the array\n",
    "img = Image.open(os.path.join(folder_path, tif_files[0]))\n",
    "image_array = np.array(img)"
   ]
  },
  {
   "cell_type": "code",
   "execution_count": 6,
   "id": "9f23551a",
   "metadata": {},
   "outputs": [],
   "source": [
    "# Create an array to store the max intensity values\n",
    "max_intensity_projection = np.zeros_like(image_array, dtype=np.uint8)\n",
    "# Loop through all images and compute the maximum intensity projection\n",
    "for file in tif_files:\n",
    "    img = Image.open(os.path.join(folder_path, file))\n",
    "    img_array = np.array(img)\n",
    "    # Take the maximum pixel value at each location\n",
    "    max_intensity_projection = np.maximum(max_intensity_projection, img_array)\n"
   ]
  },
  {
   "cell_type": "code",
   "execution_count": 8,
   "id": "190f3eff",
   "metadata": {},
   "outputs": [
    {
     "name": "stdout",
     "output_type": "stream",
     "text": [
      "Merged image saved as '/Users/pallavisingh/Library/CloudStorage/OneDrive-DalhousieUniversity/MLOPs Project/merged_image.tif'.\n"
     ]
    }
   ],
   "source": [
    "# Convert the final result back to an image\n",
    "merged_image = Image.fromarray(max_intensity_projection)\n",
    "\n",
    "# Save the merged image\n",
    "output_path = '/Users/pallavisingh/Library/CloudStorage/OneDrive-DalhousieUniversity/MLOPs Project/merged_image.tif'\n",
    "merged_image.save(output_path)\n",
    "\n",
    "print(f\"Merged image saved as '{output_path}'.\")"
   ]
  },
  {
   "cell_type": "code",
   "execution_count": 11,
   "id": "bdaa2e4e",
   "metadata": {},
   "outputs": [
    {
     "name": "stdout",
     "output_type": "stream",
     "text": [
      "Merged image saved as '/Users/pallavisingh/Library/CloudStorage/OneDrive-DalhousieUniversity/MLOPs Project/merged_image1.tif'.\n"
     ]
    }
   ],
   "source": [
    "# Regular expression to match filenames of the format 'SAEC exp1 As High 63x - Position 1_ZXX_C1'\n",
    "pattern = re.compile(r'SAEC exp1 As High 63x - Position 1_Z(\\d+)_C1\\.tif')\n",
    "\n",
    "# Get the list of matching TIFF images in the folder\n",
    "tif_files = [f for f in os.listdir(folder_path) if pattern.match(f)]\n",
    "\n",
    "# Sort the files by Z-index (the number after 'Z' in the filename)\n",
    "tif_files.sort(key=lambda x: int(pattern.match(x).group(1)))\n",
    "\n",
    "# Load the first image to initialize the array\n",
    "img = Image.open(os.path.join(folder_path, tif_files[0]))\n",
    "image_array = np.array(img)\n",
    "\n",
    "# Create an array to store the maximum intensity values\n",
    "gaussian_filtered_projection = np.zeros_like(image_array, dtype=np.float32)\n",
    "\n",
    "# Loop through all images, apply Gaussian filter, and compute the maximum intensity projection\n",
    "for file in tif_files:\n",
    "    img = Image.open(os.path.join(folder_path, file))\n",
    "    img_array = np.array(img)\n",
    "    \n",
    "    # Apply Gaussian filter to the image (you can adjust the sigma value for smoothing)\n",
    "    filtered_image = gaussian_filter(img_array, sigma=1)  # Adjust sigma for desired smoothing\n",
    "    \n",
    "    # Take the maximum pixel value at each location\n",
    "    gaussian_filtered_projection = np.maximum(gaussian_filtered_projection, filtered_image)\n",
    "\n",
    "# Convert the final result back to an image\n",
    "merged_image = Image.fromarray(np.uint8(gaussian_filtered_projection))\n",
    "\n",
    "# Save the merged image\n",
    "output_path = '/Users/pallavisingh/Library/CloudStorage/OneDrive-DalhousieUniversity/MLOPs Project/merged_image1.tif'\n",
    "merged_image.save(output_path)\n",
    "\n",
    "print(f\"Merged image saved as '{output_path}'.\")\n"
   ]
  },
  {
   "cell_type": "code",
   "execution_count": null,
   "id": "2e96ff64",
   "metadata": {},
   "outputs": [],
   "source": []
  }
 ],
 "metadata": {
  "kernelspec": {
   "display_name": "Python 3 (ipykernel)",
   "language": "python",
   "name": "python3"
  },
  "language_info": {
   "codemirror_mode": {
    "name": "ipython",
    "version": 3
   },
   "file_extension": ".py",
   "mimetype": "text/x-python",
   "name": "python",
   "nbconvert_exporter": "python",
   "pygments_lexer": "ipython3",
   "version": "3.11.4"
  }
 },
 "nbformat": 4,
 "nbformat_minor": 5
}
