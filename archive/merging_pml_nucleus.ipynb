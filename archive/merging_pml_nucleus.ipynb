{
 "cells": [
  {
   "cell_type": "code",
   "execution_count": 1,
   "metadata": {},
   "outputs": [],
   "source": [
    "import cv2\n",
    "import os\n",
    "import glob"
   ]
  },
  {
   "cell_type": "code",
   "execution_count": 5,
   "metadata": {},
   "outputs": [],
   "source": [
    "# Define paths\n",
    "pml_folder = '/Users/pallavisingh/Library/CloudStorage/OneDrive-SharedLibraries-DalhousieUniversity/Priyadharshini Sridharan - Images from Dellaire Lab/input/Nuclei and pml training image data/merged-pml-high-arsenic'\n",
    "nucleus_folder = '/Users/pallavisingh/Library/CloudStorage/OneDrive-SharedLibraries-DalhousieUniversity/Priyadharshini Sridharan - Images from Dellaire Lab/input/Nuclei and pml training image data/merged-dapi-high-arsenic'\n",
    "output_folder = '/Users/pallavisingh/Library/CloudStorage/OneDrive-SharedLibraries-DalhousieUniversity/Priyadharshini Sridharan - Images from Dellaire Lab/input/arsenic'\n"
   ]
  },
  {
   "cell_type": "code",
   "execution_count": 6,
   "metadata": {},
   "outputs": [],
   "source": [
    "# Ensure the output folder exists\n",
    "os.makedirs(output_folder, exist_ok=True)"
   ]
  },
  {
   "cell_type": "code",
   "execution_count": 7,
   "metadata": {},
   "outputs": [
    {
     "name": "stdout",
     "output_type": "stream",
     "text": [
      "Saved combined image: /Users/pallavisingh/Library/CloudStorage/OneDrive-SharedLibraries-DalhousieUniversity/Priyadharshini Sridharan - Images from Dellaire Lab/input/arsenic/combined_flattened_position_80_C1.tif\n",
      "Saved combined image: /Users/pallavisingh/Library/CloudStorage/OneDrive-SharedLibraries-DalhousieUniversity/Priyadharshini Sridharan - Images from Dellaire Lab/input/arsenic/combined_flattened_position_10_C1.tif\n",
      "Saved combined image: /Users/pallavisingh/Library/CloudStorage/OneDrive-SharedLibraries-DalhousieUniversity/Priyadharshini Sridharan - Images from Dellaire Lab/input/arsenic/combined_flattened_position_73_C1.tif\n",
      "Saved combined image: /Users/pallavisingh/Library/CloudStorage/OneDrive-SharedLibraries-DalhousieUniversity/Priyadharshini Sridharan - Images from Dellaire Lab/input/arsenic/combined_flattened_position_61_C1.tif\n",
      "Saved combined image: /Users/pallavisingh/Library/CloudStorage/OneDrive-SharedLibraries-DalhousieUniversity/Priyadharshini Sridharan - Images from Dellaire Lab/input/arsenic/combined_flattened_position_6_C1.tif\n",
      "Saved combined image: /Users/pallavisingh/Library/CloudStorage/OneDrive-SharedLibraries-DalhousieUniversity/Priyadharshini Sridharan - Images from Dellaire Lab/input/arsenic/combined_flattened_position_49_C1.tif\n",
      "Saved combined image: /Users/pallavisingh/Library/CloudStorage/OneDrive-SharedLibraries-DalhousieUniversity/Priyadharshini Sridharan - Images from Dellaire Lab/input/arsenic/combined_flattened_position_34_C1.tif\n",
      "Saved combined image: /Users/pallavisingh/Library/CloudStorage/OneDrive-SharedLibraries-DalhousieUniversity/Priyadharshini Sridharan - Images from Dellaire Lab/input/arsenic/combined_flattened_position_57_C1.tif\n",
      "Saved combined image: /Users/pallavisingh/Library/CloudStorage/OneDrive-SharedLibraries-DalhousieUniversity/Priyadharshini Sridharan - Images from Dellaire Lab/input/arsenic/combined_flattened_position_26_C1.tif\n",
      "Saved combined image: /Users/pallavisingh/Library/CloudStorage/OneDrive-SharedLibraries-DalhousieUniversity/Priyadharshini Sridharan - Images from Dellaire Lab/input/arsenic/combined_flattened_position_45_C1.tif\n",
      "Saved combined image: /Users/pallavisingh/Library/CloudStorage/OneDrive-SharedLibraries-DalhousieUniversity/Priyadharshini Sridharan - Images from Dellaire Lab/input/arsenic/combined_flattened_position_38_C1.tif\n",
      "Saved combined image: /Users/pallavisingh/Library/CloudStorage/OneDrive-SharedLibraries-DalhousieUniversity/Priyadharshini Sridharan - Images from Dellaire Lab/input/arsenic/combined_flattened_position_63_C1.tif\n",
      "Saved combined image: /Users/pallavisingh/Library/CloudStorage/OneDrive-SharedLibraries-DalhousieUniversity/Priyadharshini Sridharan - Images from Dellaire Lab/input/arsenic/combined_flattened_position_4_C1.tif\n",
      "Saved combined image: /Users/pallavisingh/Library/CloudStorage/OneDrive-SharedLibraries-DalhousieUniversity/Priyadharshini Sridharan - Images from Dellaire Lab/input/arsenic/combined_flattened_position_71_C1.tif\n",
      "Saved combined image: /Users/pallavisingh/Library/CloudStorage/OneDrive-SharedLibraries-DalhousieUniversity/Priyadharshini Sridharan - Images from Dellaire Lab/input/arsenic/combined_flattened_position_8_C1.tif\n",
      "Saved combined image: /Users/pallavisingh/Library/CloudStorage/OneDrive-SharedLibraries-DalhousieUniversity/Priyadharshini Sridharan - Images from Dellaire Lab/input/arsenic/combined_flattened_position_12_C1.tif\n",
      "Saved combined image: /Users/pallavisingh/Library/CloudStorage/OneDrive-SharedLibraries-DalhousieUniversity/Priyadharshini Sridharan - Images from Dellaire Lab/input/arsenic/combined_flattened_position_47_C1.tif\n",
      "Saved combined image: /Users/pallavisingh/Library/CloudStorage/OneDrive-SharedLibraries-DalhousieUniversity/Priyadharshini Sridharan - Images from Dellaire Lab/input/arsenic/combined_flattened_position_59_C1.tif\n",
      "Saved combined image: /Users/pallavisingh/Library/CloudStorage/OneDrive-SharedLibraries-DalhousieUniversity/Priyadharshini Sridharan - Images from Dellaire Lab/input/arsenic/combined_flattened_position_24_C1.tif\n",
      "Saved combined image: /Users/pallavisingh/Library/CloudStorage/OneDrive-SharedLibraries-DalhousieUniversity/Priyadharshini Sridharan - Images from Dellaire Lab/input/arsenic/combined_flattened_position_55_C1.tif\n",
      "Saved combined image: /Users/pallavisingh/Library/CloudStorage/OneDrive-SharedLibraries-DalhousieUniversity/Priyadharshini Sridharan - Images from Dellaire Lab/input/arsenic/combined_flattened_position_28_C1.tif\n",
      "Saved combined image: /Users/pallavisingh/Library/CloudStorage/OneDrive-SharedLibraries-DalhousieUniversity/Priyadharshini Sridharan - Images from Dellaire Lab/input/arsenic/combined_flattened_position_36_C1.tif\n",
      "Saved combined image: /Users/pallavisingh/Library/CloudStorage/OneDrive-SharedLibraries-DalhousieUniversity/Priyadharshini Sridharan - Images from Dellaire Lab/input/arsenic/combined_flattened_position_51_C1.tif\n",
      "Saved combined image: /Users/pallavisingh/Library/CloudStorage/OneDrive-SharedLibraries-DalhousieUniversity/Priyadharshini Sridharan - Images from Dellaire Lab/input/arsenic/combined_flattened_position_32_C1.tif\n",
      "Saved combined image: /Users/pallavisingh/Library/CloudStorage/OneDrive-SharedLibraries-DalhousieUniversity/Priyadharshini Sridharan - Images from Dellaire Lab/input/arsenic/combined_flattened_position_43_C1.tif\n",
      "Saved combined image: /Users/pallavisingh/Library/CloudStorage/OneDrive-SharedLibraries-DalhousieUniversity/Priyadharshini Sridharan - Images from Dellaire Lab/input/arsenic/combined_flattened_position_20_C1.tif\n",
      "Saved combined image: /Users/pallavisingh/Library/CloudStorage/OneDrive-SharedLibraries-DalhousieUniversity/Priyadharshini Sridharan - Images from Dellaire Lab/input/arsenic/combined_flattened_position_75_C1.tif\n",
      "Saved combined image: /Users/pallavisingh/Library/CloudStorage/OneDrive-SharedLibraries-DalhousieUniversity/Priyadharshini Sridharan - Images from Dellaire Lab/input/arsenic/combined_flattened_position_16_C1.tif\n",
      "Saved combined image: /Users/pallavisingh/Library/CloudStorage/OneDrive-SharedLibraries-DalhousieUniversity/Priyadharshini Sridharan - Images from Dellaire Lab/input/arsenic/combined_flattened_position_67_C1.tif\n",
      "Saved combined image: /Users/pallavisingh/Library/CloudStorage/OneDrive-SharedLibraries-DalhousieUniversity/Priyadharshini Sridharan - Images from Dellaire Lab/input/arsenic/combined_flattened_position_79_C1.tif\n",
      "Saved combined image: /Users/pallavisingh/Library/CloudStorage/OneDrive-SharedLibraries-DalhousieUniversity/Priyadharshini Sridharan - Images from Dellaire Lab/input/arsenic/combined_flattened_position_22_C1.tif\n",
      "Saved combined image: /Users/pallavisingh/Library/CloudStorage/OneDrive-SharedLibraries-DalhousieUniversity/Priyadharshini Sridharan - Images from Dellaire Lab/input/arsenic/combined_flattened_position_41_C1.tif\n",
      "Saved combined image: /Users/pallavisingh/Library/CloudStorage/OneDrive-SharedLibraries-DalhousieUniversity/Priyadharshini Sridharan - Images from Dellaire Lab/input/arsenic/combined_flattened_position_30_C1.tif\n",
      "Saved combined image: /Users/pallavisingh/Library/CloudStorage/OneDrive-SharedLibraries-DalhousieUniversity/Priyadharshini Sridharan - Images from Dellaire Lab/input/arsenic/combined_flattened_position_53_C1.tif\n",
      "Saved combined image: /Users/pallavisingh/Library/CloudStorage/OneDrive-SharedLibraries-DalhousieUniversity/Priyadharshini Sridharan - Images from Dellaire Lab/input/arsenic/combined_flattened_position_2_C1.tif\n",
      "Saved combined image: /Users/pallavisingh/Library/CloudStorage/OneDrive-SharedLibraries-DalhousieUniversity/Priyadharshini Sridharan - Images from Dellaire Lab/input/arsenic/combined_flattened_position_18_C1.tif\n",
      "Saved combined image: /Users/pallavisingh/Library/CloudStorage/OneDrive-SharedLibraries-DalhousieUniversity/Priyadharshini Sridharan - Images from Dellaire Lab/input/arsenic/combined_flattened_position_65_C1.tif\n",
      "Saved combined image: /Users/pallavisingh/Library/CloudStorage/OneDrive-SharedLibraries-DalhousieUniversity/Priyadharshini Sridharan - Images from Dellaire Lab/input/arsenic/combined_flattened_position_14_C1.tif\n",
      "Saved combined image: /Users/pallavisingh/Library/CloudStorage/OneDrive-SharedLibraries-DalhousieUniversity/Priyadharshini Sridharan - Images from Dellaire Lab/input/arsenic/combined_flattened_position_69_C1.tif\n",
      "Saved combined image: /Users/pallavisingh/Library/CloudStorage/OneDrive-SharedLibraries-DalhousieUniversity/Priyadharshini Sridharan - Images from Dellaire Lab/input/arsenic/combined_flattened_position_77_C1.tif\n",
      "Saved combined image: /Users/pallavisingh/Library/CloudStorage/OneDrive-SharedLibraries-DalhousieUniversity/Priyadharshini Sridharan - Images from Dellaire Lab/input/arsenic/combined_flattened_position_56_C1.tif\n",
      "Saved combined image: /Users/pallavisingh/Library/CloudStorage/OneDrive-SharedLibraries-DalhousieUniversity/Priyadharshini Sridharan - Images from Dellaire Lab/input/arsenic/combined_flattened_position_35_C1.tif\n",
      "Saved combined image: /Users/pallavisingh/Library/CloudStorage/OneDrive-SharedLibraries-DalhousieUniversity/Priyadharshini Sridharan - Images from Dellaire Lab/input/arsenic/combined_flattened_position_48_C1.tif\n",
      "Saved combined image: /Users/pallavisingh/Library/CloudStorage/OneDrive-SharedLibraries-DalhousieUniversity/Priyadharshini Sridharan - Images from Dellaire Lab/input/arsenic/combined_flattened_position_39_C1.tif\n",
      "Saved combined image: /Users/pallavisingh/Library/CloudStorage/OneDrive-SharedLibraries-DalhousieUniversity/Priyadharshini Sridharan - Images from Dellaire Lab/input/arsenic/combined_flattened_position_44_C1.tif\n",
      "Saved combined image: /Users/pallavisingh/Library/CloudStorage/OneDrive-SharedLibraries-DalhousieUniversity/Priyadharshini Sridharan - Images from Dellaire Lab/input/arsenic/combined_flattened_position_27_C1.tif\n",
      "Saved combined image: /Users/pallavisingh/Library/CloudStorage/OneDrive-SharedLibraries-DalhousieUniversity/Priyadharshini Sridharan - Images from Dellaire Lab/input/arsenic/combined_flattened_position_72_C1.tif\n",
      "Saved combined image: /Users/pallavisingh/Library/CloudStorage/OneDrive-SharedLibraries-DalhousieUniversity/Priyadharshini Sridharan - Images from Dellaire Lab/input/arsenic/combined_flattened_position_11_C1.tif\n",
      "Saved combined image: /Users/pallavisingh/Library/CloudStorage/OneDrive-SharedLibraries-DalhousieUniversity/Priyadharshini Sridharan - Images from Dellaire Lab/input/arsenic/combined_flattened_position_7_C1.tif\n",
      "Saved combined image: /Users/pallavisingh/Library/CloudStorage/OneDrive-SharedLibraries-DalhousieUniversity/Priyadharshini Sridharan - Images from Dellaire Lab/input/arsenic/combined_flattened_position_60_C1.tif\n",
      "Saved combined image: /Users/pallavisingh/Library/CloudStorage/OneDrive-SharedLibraries-DalhousieUniversity/Priyadharshini Sridharan - Images from Dellaire Lab/input/arsenic/combined_flattened_position_25_C1.tif\n",
      "Saved combined image: /Users/pallavisingh/Library/CloudStorage/OneDrive-SharedLibraries-DalhousieUniversity/Priyadharshini Sridharan - Images from Dellaire Lab/input/arsenic/combined_flattened_position_58_C1.tif\n",
      "Saved combined image: /Users/pallavisingh/Library/CloudStorage/OneDrive-SharedLibraries-DalhousieUniversity/Priyadharshini Sridharan - Images from Dellaire Lab/input/arsenic/combined_flattened_position_46_C1.tif\n",
      "Saved combined image: /Users/pallavisingh/Library/CloudStorage/OneDrive-SharedLibraries-DalhousieUniversity/Priyadharshini Sridharan - Images from Dellaire Lab/input/arsenic/combined_flattened_position_37_C1.tif\n",
      "Saved combined image: /Users/pallavisingh/Library/CloudStorage/OneDrive-SharedLibraries-DalhousieUniversity/Priyadharshini Sridharan - Images from Dellaire Lab/input/arsenic/combined_flattened_position_29_C1.tif\n",
      "Saved combined image: /Users/pallavisingh/Library/CloudStorage/OneDrive-SharedLibraries-DalhousieUniversity/Priyadharshini Sridharan - Images from Dellaire Lab/input/arsenic/combined_flattened_position_54_C1.tif\n",
      "Saved combined image: /Users/pallavisingh/Library/CloudStorage/OneDrive-SharedLibraries-DalhousieUniversity/Priyadharshini Sridharan - Images from Dellaire Lab/input/arsenic/combined_flattened_position_5_C1.tif\n",
      "Saved combined image: /Users/pallavisingh/Library/CloudStorage/OneDrive-SharedLibraries-DalhousieUniversity/Priyadharshini Sridharan - Images from Dellaire Lab/input/arsenic/combined_flattened_position_62_C1.tif\n",
      "Saved combined image: /Users/pallavisingh/Library/CloudStorage/OneDrive-SharedLibraries-DalhousieUniversity/Priyadharshini Sridharan - Images from Dellaire Lab/input/arsenic/combined_flattened_position_9_C1.tif\n",
      "Saved combined image: /Users/pallavisingh/Library/CloudStorage/OneDrive-SharedLibraries-DalhousieUniversity/Priyadharshini Sridharan - Images from Dellaire Lab/input/arsenic/combined_flattened_position_13_C1.tif\n",
      "Saved combined image: /Users/pallavisingh/Library/CloudStorage/OneDrive-SharedLibraries-DalhousieUniversity/Priyadharshini Sridharan - Images from Dellaire Lab/input/arsenic/combined_flattened_position_70_C1.tif\n",
      "Saved combined image: /Users/pallavisingh/Library/CloudStorage/OneDrive-SharedLibraries-DalhousieUniversity/Priyadharshini Sridharan - Images from Dellaire Lab/input/arsenic/combined_flattened_position_17_C1.tif\n",
      "Saved combined image: /Users/pallavisingh/Library/CloudStorage/OneDrive-SharedLibraries-DalhousieUniversity/Priyadharshini Sridharan - Images from Dellaire Lab/input/arsenic/combined_flattened_position_74_C1.tif\n",
      "Saved combined image: /Users/pallavisingh/Library/CloudStorage/OneDrive-SharedLibraries-DalhousieUniversity/Priyadharshini Sridharan - Images from Dellaire Lab/input/arsenic/combined_flattened_position_78_C1.tif\n",
      "Saved combined image: /Users/pallavisingh/Library/CloudStorage/OneDrive-SharedLibraries-DalhousieUniversity/Priyadharshini Sridharan - Images from Dellaire Lab/input/arsenic/combined_flattened_position_66_C1.tif\n",
      "Saved combined image: /Users/pallavisingh/Library/CloudStorage/OneDrive-SharedLibraries-DalhousieUniversity/Priyadharshini Sridharan - Images from Dellaire Lab/input/arsenic/combined_flattened_position_1_C1.tif\n",
      "Saved combined image: /Users/pallavisingh/Library/CloudStorage/OneDrive-SharedLibraries-DalhousieUniversity/Priyadharshini Sridharan - Images from Dellaire Lab/input/arsenic/combined_flattened_position_33_C1.tif\n",
      "Saved combined image: /Users/pallavisingh/Library/CloudStorage/OneDrive-SharedLibraries-DalhousieUniversity/Priyadharshini Sridharan - Images from Dellaire Lab/input/arsenic/combined_flattened_position_50_C1.tif\n",
      "Saved combined image: /Users/pallavisingh/Library/CloudStorage/OneDrive-SharedLibraries-DalhousieUniversity/Priyadharshini Sridharan - Images from Dellaire Lab/input/arsenic/combined_flattened_position_21_C1.tif\n",
      "Saved combined image: /Users/pallavisingh/Library/CloudStorage/OneDrive-SharedLibraries-DalhousieUniversity/Priyadharshini Sridharan - Images from Dellaire Lab/input/arsenic/combined_flattened_position_42_C1.tif\n",
      "Saved combined image: /Users/pallavisingh/Library/CloudStorage/OneDrive-SharedLibraries-DalhousieUniversity/Priyadharshini Sridharan - Images from Dellaire Lab/input/arsenic/combined_flattened_position_64_C1.tif\n",
      "Saved combined image: /Users/pallavisingh/Library/CloudStorage/OneDrive-SharedLibraries-DalhousieUniversity/Priyadharshini Sridharan - Images from Dellaire Lab/input/arsenic/combined_flattened_position_3_C1.tif\n",
      "Saved combined image: /Users/pallavisingh/Library/CloudStorage/OneDrive-SharedLibraries-DalhousieUniversity/Priyadharshini Sridharan - Images from Dellaire Lab/input/arsenic/combined_flattened_position_19_C1.tif\n",
      "Saved combined image: /Users/pallavisingh/Library/CloudStorage/OneDrive-SharedLibraries-DalhousieUniversity/Priyadharshini Sridharan - Images from Dellaire Lab/input/arsenic/combined_flattened_position_76_C1.tif\n",
      "Saved combined image: /Users/pallavisingh/Library/CloudStorage/OneDrive-SharedLibraries-DalhousieUniversity/Priyadharshini Sridharan - Images from Dellaire Lab/input/arsenic/combined_flattened_position_68_C1.tif\n",
      "Saved combined image: /Users/pallavisingh/Library/CloudStorage/OneDrive-SharedLibraries-DalhousieUniversity/Priyadharshini Sridharan - Images from Dellaire Lab/input/arsenic/combined_flattened_position_15_C1.tif\n",
      "Saved combined image: /Users/pallavisingh/Library/CloudStorage/OneDrive-SharedLibraries-DalhousieUniversity/Priyadharshini Sridharan - Images from Dellaire Lab/input/arsenic/combined_flattened_position_40_C1.tif\n",
      "Saved combined image: /Users/pallavisingh/Library/CloudStorage/OneDrive-SharedLibraries-DalhousieUniversity/Priyadharshini Sridharan - Images from Dellaire Lab/input/arsenic/combined_flattened_position_23_C1.tif\n",
      "Saved combined image: /Users/pallavisingh/Library/CloudStorage/OneDrive-SharedLibraries-DalhousieUniversity/Priyadharshini Sridharan - Images from Dellaire Lab/input/arsenic/combined_flattened_position_52_C1.tif\n",
      "Saved combined image: /Users/pallavisingh/Library/CloudStorage/OneDrive-SharedLibraries-DalhousieUniversity/Priyadharshini Sridharan - Images from Dellaire Lab/input/arsenic/combined_flattened_position_31_C1.tif\n"
     ]
    }
   ],
   "source": [
    "# Loop through each PML body image\n",
    "for pml_path in glob.glob(os.path.join(pml_folder, '*.tif')):\n",
    "    # Extract base filename without extension\n",
    "    base_name = os.path.basename(pml_path).replace('C1', 'C0')  # Replace C1 with C0 for matching nucleus image\n",
    "    nucleus_path = os.path.join(nucleus_folder, base_name)\n",
    "    \n",
    "    # Check if the corresponding nucleus image exists\n",
    "    if os.path.exists(nucleus_path):\n",
    "        # Load images\n",
    "        pml_image = cv2.imread(pml_path, cv2.IMREAD_GRAYSCALE)\n",
    "        nucleus_image = cv2.imread(nucleus_path, cv2.IMREAD_GRAYSCALE)\n",
    "        \n",
    "        # Check if images are the same size\n",
    "        if pml_image.shape == nucleus_image.shape:\n",
    "            # Combine images (overlay or blending)\n",
    "            combined_image = cv2.addWeighted(pml_image, 0.5, nucleus_image, 0.5, 0)\n",
    "            \n",
    "            # Save the combined image\n",
    "            output_path = os.path.join(output_folder, f'combined_{os.path.basename(pml_path)}')\n",
    "            cv2.imwrite(output_path, combined_image)\n",
    "            print(f'Saved combined image: {output_path}')\n",
    "        else:\n",
    "            print(f\"Image sizes don't match for {pml_path} and {nucleus_path}\")\n",
    "    else:\n",
    "        print(f'No matching nucleus image found for {pml_path}')"
   ]
  },
  {
   "cell_type": "code",
   "execution_count": null,
   "metadata": {},
   "outputs": [],
   "source": []
  }
 ],
 "metadata": {
  "kernelspec": {
   "display_name": "mlprojects",
   "language": "python",
   "name": "python3"
  },
  "language_info": {
   "codemirror_mode": {
    "name": "ipython",
    "version": 3
   },
   "file_extension": ".py",
   "mimetype": "text/x-python",
   "name": "python",
   "nbconvert_exporter": "python",
   "pygments_lexer": "ipython3",
   "version": "3.11.5"
  },
  "orig_nbformat": 4
 },
 "nbformat": 4,
 "nbformat_minor": 2
}
