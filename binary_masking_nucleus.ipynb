{
 "cells": [
  {
   "cell_type": "code",
   "execution_count": 9,
   "id": "970d230d",
   "metadata": {},
   "outputs": [],
   "source": [
    "import numpy as np\n",
    "from skimage import filters\n",
    "import os\n",
    "import cv2"
   ]
  },
  {
   "cell_type": "code",
   "execution_count": 29,
   "id": "e0611c0c",
   "metadata": {},
   "outputs": [],
   "source": [
    "def create_binary_mask(tiff_image_path, output_mask_path):\n",
    "    # Read the TIFF image\n",
    "    image = cv2.imread(tiff_image_path, cv2.IMREAD_GRAYSCALE)\n",
    "\n",
    "    # Check if the image was loaded successfully\n",
    "    if image is None:\n",
    "        raise ValueError(f\"Could not read image: {tiff_image_path}\")\n",
    "\n",
    "    # Apply Gaussian blur to reduce noise\n",
    "    blurred_image = cv2.GaussianBlur(image, (5, 5), 0)\n",
    "\n",
    "    Use Otsu's method to find an optimal threshold\n",
    "    thresh = filters.threshold_otsu(blurred_image)\n",
    "#     print(thresh)\n",
    "#     thresh = 80\n",
    "    binary_mask = blurred_image > thresh\n",
    "\n",
    "    # Convert boolean mask to uint8\n",
    "    binary_mask = (binary_mask * 255).astype(np.uint8)\n",
    "\n",
    "    # Optional: Perform morphological operations to clean up the mask\n",
    "    kernel = np.ones((3, 3), np.uint8)\n",
    "    cleaned_mask = cv2.morphologyEx(binary_mask, cv2.MORPH_CLOSE, kernel)\n",
    "    cleaned_mask = cv2.morphologyEx(cleaned_mask, cv2.MORPH_OPEN, kernel)\n",
    "\n",
    "    # Save the binary mask as a TIFF image\n",
    "    cv2.imwrite(output_mask_path, cleaned_mask)\n"
   ]
  },
  {
   "cell_type": "code",
   "execution_count": 30,
   "id": "692ca22b",
   "metadata": {},
   "outputs": [],
   "source": [
    "def process_images(input_folder, output_folder):\n",
    "    # Create output folder if it doesn't exist\n",
    "    os.makedirs(output_folder, exist_ok=True)\n",
    "\n",
    "    # Iterate through all TIFF images in the input folder\n",
    "    for filename in os.listdir(input_folder):\n",
    "        if filename.endswith('.tiff') or filename.endswith('.tif'):\n",
    "            tiff_image_path = os.path.join(input_folder, filename)\n",
    "            output_mask_path = os.path.join(output_folder, filename.replace('.tif', '_mask.tif').replace('.tif', '_mask.tif'))\n",
    "            \n",
    "            # Create binary mask\n",
    "            create_binary_mask(tiff_image_path, output_mask_path)\n",
    "            print(f\"Processed: {filename} -> Saved mask as {output_mask_path}\")\n"
   ]
  },
  {
   "cell_type": "code",
   "execution_count": 32,
   "id": "e137a7f3",
   "metadata": {},
   "outputs": [
    {
     "name": "stdout",
     "output_type": "stream",
     "text": [
      "Processed: flattened_position_8_C0.tif -> Saved mask as /Users/pallavisingh/Library/CloudStorage/OneDrive-SharedLibraries-DalhousieUniversity/Priyadharshini Sridharan - Images from Dellaire Lab/test/flattened_position_8_C0_mask_mask.tif\n"
     ]
    }
   ],
   "source": [
    "# Code of masking non arsenic nucleus\n",
    "input_folder = '/Users/pallavisingh/Library/CloudStorage/OneDrive-SharedLibraries-DalhousieUniversity/Priyadharshini Sridharan - Images from Dellaire Lab/test'   # Path to the folder containing TIFF images\n",
    "output_folder = '/Users/pallavisingh/Library/CloudStorage/OneDrive-SharedLibraries-DalhousieUniversity/Priyadharshini Sridharan - Images from Dellaire Lab/test'  # Path to the folder where masks will be saved\n",
    "process_images(input_folder, output_folder)"
   ]
  },
  {
   "cell_type": "code",
   "execution_count": 17,
   "id": "ec3d76e9",
   "metadata": {},
   "outputs": [
    {
     "name": "stdout",
     "output_type": "stream",
     "text": [
      "Requirement already satisfied: imagecodecs in /Users/pallavisingh/anaconda3/lib/python3.11/site-packages (2021.8.26)\n",
      "Requirement already satisfied: numpy>=1.15.1 in /Users/pallavisingh/anaconda3/lib/python3.11/site-packages (from imagecodecs) (1.24.3)\n",
      "\n",
      "\u001b[1m[\u001b[0m\u001b[34;49mnotice\u001b[0m\u001b[1;39;49m]\u001b[0m\u001b[39;49m A new release of pip is available: \u001b[0m\u001b[31;49m24.1.2\u001b[0m\u001b[39;49m -> \u001b[0m\u001b[32;49m24.2\u001b[0m\n",
      "\u001b[1m[\u001b[0m\u001b[34;49mnotice\u001b[0m\u001b[1;39;49m]\u001b[0m\u001b[39;49m To update, run: \u001b[0m\u001b[32;49mpip install --upgrade pip\u001b[0m\n"
     ]
    }
   ],
   "source": [
    "!pip install imagecodecs\n"
   ]
  },
  {
   "cell_type": "code",
   "execution_count": null,
   "id": "14d48310",
   "metadata": {},
   "outputs": [],
   "source": []
  }
 ],
 "metadata": {
  "kernelspec": {
   "display_name": "Python 3 (ipykernel)",
   "language": "python",
   "name": "python3"
  },
  "language_info": {
   "codemirror_mode": {
    "name": "ipython",
    "version": 3
   },
   "file_extension": ".py",
   "mimetype": "text/x-python",
   "name": "python",
   "nbconvert_exporter": "python",
   "pygments_lexer": "ipython3",
   "version": "3.11.4"
  }
 },
 "nbformat": 4,
 "nbformat_minor": 5
}
