{
 "cells": [
  {
   "cell_type": "code",
   "execution_count": 3,
   "id": "970d230d",
   "metadata": {},
   "outputs": [],
   "source": [
    "import numpy as np\n",
    "from skimage import filters\n",
    "import os\n",
    "import cv2"
   ]
  },
  {
   "cell_type": "code",
   "execution_count": 4,
   "id": "e0611c0c",
   "metadata": {},
   "outputs": [],
   "source": [
    "def create_binary_mask(tiff_image_path, output_mask_path):\n",
    "    # Read the TIFF image\n",
    "    image = cv2.imread(tiff_image_path, cv2.IMREAD_GRAYSCALE)\n",
    "\n",
    "    # Check if the image was loaded successfully\n",
    "    if image is None:\n",
    "        raise ValueError(f\"Could not read image: {tiff_image_path}\")\n",
    "\n",
    "    # Apply Gaussian blur to reduce noise\n",
    "    blurred_image = cv2.GaussianBlur(image, (5, 5), 0)\n",
    "\n",
    "    #Use Otsu's method to find an optimal threshold\n",
    "    thresh = filters.threshold_otsu(blurred_image)\n",
    "#     print(thresh)\n",
    "#     thresh = 80\n",
    "    binary_mask = blurred_image > thresh\n",
    "\n",
    "    # Convert boolean mask to uint8\n",
    "    binary_mask = (binary_mask * 255).astype(np.uint8)\n",
    "\n",
    "    # Optional: Perform morphological operations to clean up the mask\n",
    "    kernel = np.ones((3, 3), np.uint8)\n",
    "    cleaned_mask = cv2.morphologyEx(binary_mask, cv2.MORPH_CLOSE, kernel)\n",
    "    cleaned_mask = cv2.morphologyEx(cleaned_mask, cv2.MORPH_OPEN, kernel)\n",
    "\n",
    "    # Save the binary mask as a TIFF image\n",
    "    cv2.imwrite(output_mask_path, cleaned_mask)\n"
   ]
  },
  {
   "cell_type": "code",
   "execution_count": 5,
   "id": "692ca22b",
   "metadata": {},
   "outputs": [],
   "source": [
    "def process_images(input_folder, output_folder):\n",
    "    # Create output folder if it doesn't exist\n",
    "    os.makedirs(output_folder, exist_ok=True)\n",
    "\n",
    "    # Iterate through all TIFF images in the input folder\n",
    "    for filename in os.listdir(input_folder):\n",
    "        if filename.endswith('.tiff') or filename.endswith('.tif'):\n",
    "            tiff_image_path = os.path.join(input_folder, filename)\n",
    "            output_mask_path = os.path.join(output_folder, filename.replace('.tif', '_mask.tif').replace('.tif', '_mask.tif'))\n",
    "            \n",
    "            # Create binary mask\n",
    "            create_binary_mask(tiff_image_path, output_mask_path)\n",
    "            print(f\"Processed: {filename} -> Saved mask as {output_mask_path}\")\n"
   ]
  },
  {
   "cell_type": "code",
   "execution_count": 7,
   "id": "e137a7f3",
   "metadata": {},
   "outputs": [
    {
     "name": "stdout",
     "output_type": "stream",
     "text": [
      "Processed: flattened_position_1-1_C0.tif -> Saved mask as E:/MLOps/Project/Images from Dellaire Lab/TIFF SAEC rep1 63X no As/binary_mask_nucleus_non_arsenic1\\flattened_position_1-1_C0_mask_mask.tif\n",
      "Processed: flattened_position_10-1_C0.tif -> Saved mask as E:/MLOps/Project/Images from Dellaire Lab/TIFF SAEC rep1 63X no As/binary_mask_nucleus_non_arsenic1\\flattened_position_10-1_C0_mask_mask.tif\n",
      "Processed: flattened_position_10_C0.tif -> Saved mask as E:/MLOps/Project/Images from Dellaire Lab/TIFF SAEC rep1 63X no As/binary_mask_nucleus_non_arsenic1\\flattened_position_10_C0_mask_mask.tif\n",
      "Processed: flattened_position_11-1_C0.tif -> Saved mask as E:/MLOps/Project/Images from Dellaire Lab/TIFF SAEC rep1 63X no As/binary_mask_nucleus_non_arsenic1\\flattened_position_11-1_C0_mask_mask.tif\n",
      "Processed: flattened_position_11_C0.tif -> Saved mask as E:/MLOps/Project/Images from Dellaire Lab/TIFF SAEC rep1 63X no As/binary_mask_nucleus_non_arsenic1\\flattened_position_11_C0_mask_mask.tif\n",
      "Processed: flattened_position_12-1_C0.tif -> Saved mask as E:/MLOps/Project/Images from Dellaire Lab/TIFF SAEC rep1 63X no As/binary_mask_nucleus_non_arsenic1\\flattened_position_12-1_C0_mask_mask.tif\n",
      "Processed: flattened_position_12_C0.tif -> Saved mask as E:/MLOps/Project/Images from Dellaire Lab/TIFF SAEC rep1 63X no As/binary_mask_nucleus_non_arsenic1\\flattened_position_12_C0_mask_mask.tif\n",
      "Processed: flattened_position_13-1_C0.tif -> Saved mask as E:/MLOps/Project/Images from Dellaire Lab/TIFF SAEC rep1 63X no As/binary_mask_nucleus_non_arsenic1\\flattened_position_13-1_C0_mask_mask.tif\n",
      "Processed: flattened_position_13_C0.tif -> Saved mask as E:/MLOps/Project/Images from Dellaire Lab/TIFF SAEC rep1 63X no As/binary_mask_nucleus_non_arsenic1\\flattened_position_13_C0_mask_mask.tif\n",
      "Processed: flattened_position_14-1_C0.tif -> Saved mask as E:/MLOps/Project/Images from Dellaire Lab/TIFF SAEC rep1 63X no As/binary_mask_nucleus_non_arsenic1\\flattened_position_14-1_C0_mask_mask.tif\n",
      "Processed: flattened_position_14_C0.tif -> Saved mask as E:/MLOps/Project/Images from Dellaire Lab/TIFF SAEC rep1 63X no As/binary_mask_nucleus_non_arsenic1\\flattened_position_14_C0_mask_mask.tif\n",
      "Processed: flattened_position_15-1_C0.tif -> Saved mask as E:/MLOps/Project/Images from Dellaire Lab/TIFF SAEC rep1 63X no As/binary_mask_nucleus_non_arsenic1\\flattened_position_15-1_C0_mask_mask.tif\n",
      "Processed: flattened_position_15_C0.tif -> Saved mask as E:/MLOps/Project/Images from Dellaire Lab/TIFF SAEC rep1 63X no As/binary_mask_nucleus_non_arsenic1\\flattened_position_15_C0_mask_mask.tif\n",
      "Processed: flattened_position_16-1_C0.tif -> Saved mask as E:/MLOps/Project/Images from Dellaire Lab/TIFF SAEC rep1 63X no As/binary_mask_nucleus_non_arsenic1\\flattened_position_16-1_C0_mask_mask.tif\n",
      "Processed: flattened_position_16_C0.tif -> Saved mask as E:/MLOps/Project/Images from Dellaire Lab/TIFF SAEC rep1 63X no As/binary_mask_nucleus_non_arsenic1\\flattened_position_16_C0_mask_mask.tif\n",
      "Processed: flattened_position_17-1_C0.tif -> Saved mask as E:/MLOps/Project/Images from Dellaire Lab/TIFF SAEC rep1 63X no As/binary_mask_nucleus_non_arsenic1\\flattened_position_17-1_C0_mask_mask.tif\n",
      "Processed: flattened_position_17_C0.tif -> Saved mask as E:/MLOps/Project/Images from Dellaire Lab/TIFF SAEC rep1 63X no As/binary_mask_nucleus_non_arsenic1\\flattened_position_17_C0_mask_mask.tif\n",
      "Processed: flattened_position_18-1_C0.tif -> Saved mask as E:/MLOps/Project/Images from Dellaire Lab/TIFF SAEC rep1 63X no As/binary_mask_nucleus_non_arsenic1\\flattened_position_18-1_C0_mask_mask.tif\n",
      "Processed: flattened_position_18_C0.tif -> Saved mask as E:/MLOps/Project/Images from Dellaire Lab/TIFF SAEC rep1 63X no As/binary_mask_nucleus_non_arsenic1\\flattened_position_18_C0_mask_mask.tif\n",
      "Processed: flattened_position_19-1_C0.tif -> Saved mask as E:/MLOps/Project/Images from Dellaire Lab/TIFF SAEC rep1 63X no As/binary_mask_nucleus_non_arsenic1\\flattened_position_19-1_C0_mask_mask.tif\n",
      "Processed: flattened_position_19_C0.tif -> Saved mask as E:/MLOps/Project/Images from Dellaire Lab/TIFF SAEC rep1 63X no As/binary_mask_nucleus_non_arsenic1\\flattened_position_19_C0_mask_mask.tif\n",
      "Processed: flattened_position_1_C0.tif -> Saved mask as E:/MLOps/Project/Images from Dellaire Lab/TIFF SAEC rep1 63X no As/binary_mask_nucleus_non_arsenic1\\flattened_position_1_C0_mask_mask.tif\n",
      "Processed: flattened_position_2-1_C0.tif -> Saved mask as E:/MLOps/Project/Images from Dellaire Lab/TIFF SAEC rep1 63X no As/binary_mask_nucleus_non_arsenic1\\flattened_position_2-1_C0_mask_mask.tif\n",
      "Processed: flattened_position_20-1_C0.tif -> Saved mask as E:/MLOps/Project/Images from Dellaire Lab/TIFF SAEC rep1 63X no As/binary_mask_nucleus_non_arsenic1\\flattened_position_20-1_C0_mask_mask.tif\n",
      "Processed: flattened_position_20_C0.tif -> Saved mask as E:/MLOps/Project/Images from Dellaire Lab/TIFF SAEC rep1 63X no As/binary_mask_nucleus_non_arsenic1\\flattened_position_20_C0_mask_mask.tif\n",
      "Processed: flattened_position_21-1_C0.tif -> Saved mask as E:/MLOps/Project/Images from Dellaire Lab/TIFF SAEC rep1 63X no As/binary_mask_nucleus_non_arsenic1\\flattened_position_21-1_C0_mask_mask.tif\n",
      "Processed: flattened_position_21_C0.tif -> Saved mask as E:/MLOps/Project/Images from Dellaire Lab/TIFF SAEC rep1 63X no As/binary_mask_nucleus_non_arsenic1\\flattened_position_21_C0_mask_mask.tif\n",
      "Processed: flattened_position_22-1_C0.tif -> Saved mask as E:/MLOps/Project/Images from Dellaire Lab/TIFF SAEC rep1 63X no As/binary_mask_nucleus_non_arsenic1\\flattened_position_22-1_C0_mask_mask.tif\n",
      "Processed: flattened_position_22_C0.tif -> Saved mask as E:/MLOps/Project/Images from Dellaire Lab/TIFF SAEC rep1 63X no As/binary_mask_nucleus_non_arsenic1\\flattened_position_22_C0_mask_mask.tif\n",
      "Processed: flattened_position_23-1_C0.tif -> Saved mask as E:/MLOps/Project/Images from Dellaire Lab/TIFF SAEC rep1 63X no As/binary_mask_nucleus_non_arsenic1\\flattened_position_23-1_C0_mask_mask.tif\n",
      "Processed: flattened_position_23_C0.tif -> Saved mask as E:/MLOps/Project/Images from Dellaire Lab/TIFF SAEC rep1 63X no As/binary_mask_nucleus_non_arsenic1\\flattened_position_23_C0_mask_mask.tif\n",
      "Processed: flattened_position_24-1_C0.tif -> Saved mask as E:/MLOps/Project/Images from Dellaire Lab/TIFF SAEC rep1 63X no As/binary_mask_nucleus_non_arsenic1\\flattened_position_24-1_C0_mask_mask.tif\n",
      "Processed: flattened_position_24_C0.tif -> Saved mask as E:/MLOps/Project/Images from Dellaire Lab/TIFF SAEC rep1 63X no As/binary_mask_nucleus_non_arsenic1\\flattened_position_24_C0_mask_mask.tif\n",
      "Processed: flattened_position_25-1_C0.tif -> Saved mask as E:/MLOps/Project/Images from Dellaire Lab/TIFF SAEC rep1 63X no As/binary_mask_nucleus_non_arsenic1\\flattened_position_25-1_C0_mask_mask.tif\n",
      "Processed: flattened_position_25_C0.tif -> Saved mask as E:/MLOps/Project/Images from Dellaire Lab/TIFF SAEC rep1 63X no As/binary_mask_nucleus_non_arsenic1\\flattened_position_25_C0_mask_mask.tif\n",
      "Processed: flattened_position_26-1_C0.tif -> Saved mask as E:/MLOps/Project/Images from Dellaire Lab/TIFF SAEC rep1 63X no As/binary_mask_nucleus_non_arsenic1\\flattened_position_26-1_C0_mask_mask.tif\n",
      "Processed: flattened_position_26_C0.tif -> Saved mask as E:/MLOps/Project/Images from Dellaire Lab/TIFF SAEC rep1 63X no As/binary_mask_nucleus_non_arsenic1\\flattened_position_26_C0_mask_mask.tif\n",
      "Processed: flattened_position_27-1_C0.tif -> Saved mask as E:/MLOps/Project/Images from Dellaire Lab/TIFF SAEC rep1 63X no As/binary_mask_nucleus_non_arsenic1\\flattened_position_27-1_C0_mask_mask.tif\n",
      "Processed: flattened_position_27_C0.tif -> Saved mask as E:/MLOps/Project/Images from Dellaire Lab/TIFF SAEC rep1 63X no As/binary_mask_nucleus_non_arsenic1\\flattened_position_27_C0_mask_mask.tif\n",
      "Processed: flattened_position_28-1_C0.tif -> Saved mask as E:/MLOps/Project/Images from Dellaire Lab/TIFF SAEC rep1 63X no As/binary_mask_nucleus_non_arsenic1\\flattened_position_28-1_C0_mask_mask.tif\n",
      "Processed: flattened_position_28_C0.tif -> Saved mask as E:/MLOps/Project/Images from Dellaire Lab/TIFF SAEC rep1 63X no As/binary_mask_nucleus_non_arsenic1\\flattened_position_28_C0_mask_mask.tif\n",
      "Processed: flattened_position_29-1_C0.tif -> Saved mask as E:/MLOps/Project/Images from Dellaire Lab/TIFF SAEC rep1 63X no As/binary_mask_nucleus_non_arsenic1\\flattened_position_29-1_C0_mask_mask.tif\n",
      "Processed: flattened_position_29_C0.tif -> Saved mask as E:/MLOps/Project/Images from Dellaire Lab/TIFF SAEC rep1 63X no As/binary_mask_nucleus_non_arsenic1\\flattened_position_29_C0_mask_mask.tif\n",
      "Processed: flattened_position_2_C0.tif -> Saved mask as E:/MLOps/Project/Images from Dellaire Lab/TIFF SAEC rep1 63X no As/binary_mask_nucleus_non_arsenic1\\flattened_position_2_C0_mask_mask.tif\n",
      "Processed: flattened_position_3-1_C0.tif -> Saved mask as E:/MLOps/Project/Images from Dellaire Lab/TIFF SAEC rep1 63X no As/binary_mask_nucleus_non_arsenic1\\flattened_position_3-1_C0_mask_mask.tif\n",
      "Processed: flattened_position_30-1_C0.tif -> Saved mask as E:/MLOps/Project/Images from Dellaire Lab/TIFF SAEC rep1 63X no As/binary_mask_nucleus_non_arsenic1\\flattened_position_30-1_C0_mask_mask.tif\n",
      "Processed: flattened_position_30_C0.tif -> Saved mask as E:/MLOps/Project/Images from Dellaire Lab/TIFF SAEC rep1 63X no As/binary_mask_nucleus_non_arsenic1\\flattened_position_30_C0_mask_mask.tif\n",
      "Processed: flattened_position_31-1_C0.tif -> Saved mask as E:/MLOps/Project/Images from Dellaire Lab/TIFF SAEC rep1 63X no As/binary_mask_nucleus_non_arsenic1\\flattened_position_31-1_C0_mask_mask.tif\n",
      "Processed: flattened_position_31_C0.tif -> Saved mask as E:/MLOps/Project/Images from Dellaire Lab/TIFF SAEC rep1 63X no As/binary_mask_nucleus_non_arsenic1\\flattened_position_31_C0_mask_mask.tif\n",
      "Processed: flattened_position_32-1_C0.tif -> Saved mask as E:/MLOps/Project/Images from Dellaire Lab/TIFF SAEC rep1 63X no As/binary_mask_nucleus_non_arsenic1\\flattened_position_32-1_C0_mask_mask.tif\n",
      "Processed: flattened_position_32_C0.tif -> Saved mask as E:/MLOps/Project/Images from Dellaire Lab/TIFF SAEC rep1 63X no As/binary_mask_nucleus_non_arsenic1\\flattened_position_32_C0_mask_mask.tif\n",
      "Processed: flattened_position_33-1_C0.tif -> Saved mask as E:/MLOps/Project/Images from Dellaire Lab/TIFF SAEC rep1 63X no As/binary_mask_nucleus_non_arsenic1\\flattened_position_33-1_C0_mask_mask.tif\n",
      "Processed: flattened_position_33_C0.tif -> Saved mask as E:/MLOps/Project/Images from Dellaire Lab/TIFF SAEC rep1 63X no As/binary_mask_nucleus_non_arsenic1\\flattened_position_33_C0_mask_mask.tif\n",
      "Processed: flattened_position_34-1_C0.tif -> Saved mask as E:/MLOps/Project/Images from Dellaire Lab/TIFF SAEC rep1 63X no As/binary_mask_nucleus_non_arsenic1\\flattened_position_34-1_C0_mask_mask.tif\n",
      "Processed: flattened_position_34_C0.tif -> Saved mask as E:/MLOps/Project/Images from Dellaire Lab/TIFF SAEC rep1 63X no As/binary_mask_nucleus_non_arsenic1\\flattened_position_34_C0_mask_mask.tif\n",
      "Processed: flattened_position_35-1_C0.tif -> Saved mask as E:/MLOps/Project/Images from Dellaire Lab/TIFF SAEC rep1 63X no As/binary_mask_nucleus_non_arsenic1\\flattened_position_35-1_C0_mask_mask.tif\n",
      "Processed: flattened_position_35_C0.tif -> Saved mask as E:/MLOps/Project/Images from Dellaire Lab/TIFF SAEC rep1 63X no As/binary_mask_nucleus_non_arsenic1\\flattened_position_35_C0_mask_mask.tif\n",
      "Processed: flattened_position_36-1_C0.tif -> Saved mask as E:/MLOps/Project/Images from Dellaire Lab/TIFF SAEC rep1 63X no As/binary_mask_nucleus_non_arsenic1\\flattened_position_36-1_C0_mask_mask.tif\n",
      "Processed: flattened_position_36_C0.tif -> Saved mask as E:/MLOps/Project/Images from Dellaire Lab/TIFF SAEC rep1 63X no As/binary_mask_nucleus_non_arsenic1\\flattened_position_36_C0_mask_mask.tif\n",
      "Processed: flattened_position_37-1_C0.tif -> Saved mask as E:/MLOps/Project/Images from Dellaire Lab/TIFF SAEC rep1 63X no As/binary_mask_nucleus_non_arsenic1\\flattened_position_37-1_C0_mask_mask.tif\n",
      "Processed: flattened_position_37_C0.tif -> Saved mask as E:/MLOps/Project/Images from Dellaire Lab/TIFF SAEC rep1 63X no As/binary_mask_nucleus_non_arsenic1\\flattened_position_37_C0_mask_mask.tif\n",
      "Processed: flattened_position_38-1_C0.tif -> Saved mask as E:/MLOps/Project/Images from Dellaire Lab/TIFF SAEC rep1 63X no As/binary_mask_nucleus_non_arsenic1\\flattened_position_38-1_C0_mask_mask.tif\n",
      "Processed: flattened_position_38_C0.tif -> Saved mask as E:/MLOps/Project/Images from Dellaire Lab/TIFF SAEC rep1 63X no As/binary_mask_nucleus_non_arsenic1\\flattened_position_38_C0_mask_mask.tif\n",
      "Processed: flattened_position_39-1_C0.tif -> Saved mask as E:/MLOps/Project/Images from Dellaire Lab/TIFF SAEC rep1 63X no As/binary_mask_nucleus_non_arsenic1\\flattened_position_39-1_C0_mask_mask.tif\n",
      "Processed: flattened_position_39_C0.tif -> Saved mask as E:/MLOps/Project/Images from Dellaire Lab/TIFF SAEC rep1 63X no As/binary_mask_nucleus_non_arsenic1\\flattened_position_39_C0_mask_mask.tif\n",
      "Processed: flattened_position_3_C0.tif -> Saved mask as E:/MLOps/Project/Images from Dellaire Lab/TIFF SAEC rep1 63X no As/binary_mask_nucleus_non_arsenic1\\flattened_position_3_C0_mask_mask.tif\n",
      "Processed: flattened_position_4-1_C0.tif -> Saved mask as E:/MLOps/Project/Images from Dellaire Lab/TIFF SAEC rep1 63X no As/binary_mask_nucleus_non_arsenic1\\flattened_position_4-1_C0_mask_mask.tif\n",
      "Processed: flattened_position_40-1_C0.tif -> Saved mask as E:/MLOps/Project/Images from Dellaire Lab/TIFF SAEC rep1 63X no As/binary_mask_nucleus_non_arsenic1\\flattened_position_40-1_C0_mask_mask.tif\n",
      "Processed: flattened_position_40_C0.tif -> Saved mask as E:/MLOps/Project/Images from Dellaire Lab/TIFF SAEC rep1 63X no As/binary_mask_nucleus_non_arsenic1\\flattened_position_40_C0_mask_mask.tif\n",
      "Processed: flattened_position_4_C0.tif -> Saved mask as E:/MLOps/Project/Images from Dellaire Lab/TIFF SAEC rep1 63X no As/binary_mask_nucleus_non_arsenic1\\flattened_position_4_C0_mask_mask.tif\n",
      "Processed: flattened_position_5-1_C0.tif -> Saved mask as E:/MLOps/Project/Images from Dellaire Lab/TIFF SAEC rep1 63X no As/binary_mask_nucleus_non_arsenic1\\flattened_position_5-1_C0_mask_mask.tif\n",
      "Processed: flattened_position_5_C0.tif -> Saved mask as E:/MLOps/Project/Images from Dellaire Lab/TIFF SAEC rep1 63X no As/binary_mask_nucleus_non_arsenic1\\flattened_position_5_C0_mask_mask.tif\n",
      "Processed: flattened_position_6-1_C0.tif -> Saved mask as E:/MLOps/Project/Images from Dellaire Lab/TIFF SAEC rep1 63X no As/binary_mask_nucleus_non_arsenic1\\flattened_position_6-1_C0_mask_mask.tif\n",
      "Processed: flattened_position_6_C0.tif -> Saved mask as E:/MLOps/Project/Images from Dellaire Lab/TIFF SAEC rep1 63X no As/binary_mask_nucleus_non_arsenic1\\flattened_position_6_C0_mask_mask.tif\n",
      "Processed: flattened_position_7-1_C0.tif -> Saved mask as E:/MLOps/Project/Images from Dellaire Lab/TIFF SAEC rep1 63X no As/binary_mask_nucleus_non_arsenic1\\flattened_position_7-1_C0_mask_mask.tif\n",
      "Processed: flattened_position_7_C0.tif -> Saved mask as E:/MLOps/Project/Images from Dellaire Lab/TIFF SAEC rep1 63X no As/binary_mask_nucleus_non_arsenic1\\flattened_position_7_C0_mask_mask.tif\n",
      "Processed: flattened_position_8-1_C0.tif -> Saved mask as E:/MLOps/Project/Images from Dellaire Lab/TIFF SAEC rep1 63X no As/binary_mask_nucleus_non_arsenic1\\flattened_position_8-1_C0_mask_mask.tif\n",
      "Processed: flattened_position_8_C0.tif -> Saved mask as E:/MLOps/Project/Images from Dellaire Lab/TIFF SAEC rep1 63X no As/binary_mask_nucleus_non_arsenic1\\flattened_position_8_C0_mask_mask.tif\n",
      "Processed: flattened_position_9-1_C0.tif -> Saved mask as E:/MLOps/Project/Images from Dellaire Lab/TIFF SAEC rep1 63X no As/binary_mask_nucleus_non_arsenic1\\flattened_position_9-1_C0_mask_mask.tif\n",
      "Processed: flattened_position_9_C0.tif -> Saved mask as E:/MLOps/Project/Images from Dellaire Lab/TIFF SAEC rep1 63X no As/binary_mask_nucleus_non_arsenic1\\flattened_position_9_C0_mask_mask.tif\n"
     ]
    }
   ],
   "source": [
    "# Code of masking non arsenic nucleust\n",
    "input_folder = 'E:\\MLOps\\Project\\Images from Dellaire Lab\\TIFF SAEC rep1 63X no As\\merged-dapi-no-arsenic'   # Path to the folder containing TIFF images\n",
    "output_folder = 'E:/MLOps/Project/Images from Dellaire Lab/TIFF SAEC rep1 63X no As/binary_mask_nucleus_non_arsenic1'  # Path to the folder where masks will be saved\n",
    "process_images(input_folder, output_folder)"
   ]
  },
  {
   "cell_type": "code",
   "execution_count": 17,
   "id": "ec3d76e9",
   "metadata": {},
   "outputs": [
    {
     "name": "stdout",
     "output_type": "stream",
     "text": [
      "Requirement already satisfied: imagecodecs in /Users/pallavisingh/anaconda3/lib/python3.11/site-packages (2021.8.26)\n",
      "Requirement already satisfied: numpy>=1.15.1 in /Users/pallavisingh/anaconda3/lib/python3.11/site-packages (from imagecodecs) (1.24.3)\n",
      "\n",
      "\u001b[1m[\u001b[0m\u001b[34;49mnotice\u001b[0m\u001b[1;39;49m]\u001b[0m\u001b[39;49m A new release of pip is available: \u001b[0m\u001b[31;49m24.1.2\u001b[0m\u001b[39;49m -> \u001b[0m\u001b[32;49m24.2\u001b[0m\n",
      "\u001b[1m[\u001b[0m\u001b[34;49mnotice\u001b[0m\u001b[1;39;49m]\u001b[0m\u001b[39;49m To update, run: \u001b[0m\u001b[32;49mpip install --upgrade pip\u001b[0m\n"
     ]
    }
   ],
   "source": [
    "!pip install imagecodecs\n"
   ]
  },
  {
   "cell_type": "code",
   "execution_count": null,
   "id": "14d48310",
   "metadata": {},
   "outputs": [],
   "source": []
  }
 ],
 "metadata": {
  "kernelspec": {
   "display_name": ".venv",
   "language": "python",
   "name": "python3"
  },
  "language_info": {
   "codemirror_mode": {
    "name": "ipython",
    "version": 3
   },
   "file_extension": ".py",
   "mimetype": "text/x-python",
   "name": "python",
   "nbconvert_exporter": "python",
   "pygments_lexer": "ipython3",
   "version": "3.11.9"
  }
 },
 "nbformat": 4,
 "nbformat_minor": 5
}
