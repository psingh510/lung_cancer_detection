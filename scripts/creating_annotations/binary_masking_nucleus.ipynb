{
 "cells": [
  {
   "cell_type": "code",
   "execution_count": 1,
   "id": "970d230d",
   "metadata": {},
   "outputs": [],
   "source": [
    "import numpy as np\n",
    "from skimage import filters\n",
    "import os\n",
    "import cv2"
   ]
  },
  {
   "cell_type": "code",
   "execution_count": 32,
   "id": "e0611c0c",
   "metadata": {},
   "outputs": [],
   "source": [
    "def create_binary_mask(tiff_image_path, output_mask_path):\n",
    "    # Read the TIFF image\n",
    "    image = cv2.imread(tiff_image_path, cv2.IMREAD_GRAYSCALE)\n",
    "\n",
    "    # Check if the image was loaded successfully\n",
    "    if image is None:\n",
    "        raise ValueError(f\"Could not read image: {tiff_image_path}\")\n",
    "    threshold_value = 25\n",
    "    # Apply Gaussian blur to reduce noise\n",
    "    # blurred_image = cv2.GaussianBlur(image, (5, 5), 0)\n",
    "\n",
    "#     #Use Otsu's method to find an optimal threshold\n",
    "#     thresh = filters.threshold_otsu(blurred_image)\n",
    "# #     print(thresh)\n",
    "# #     thresh = 30\n",
    "#     binary_mask = blurred_image > thresh\n",
    "\n",
    "#     # Convert boolean mask to uint8\n",
    "#     binary_mask = (binary_mask * 255).astype(np.uint8)\n",
    "    # Adaptive thresholding\n",
    "    # Apply Gaussian blur to reduce noise\n",
    "    blurred_image = cv2.GaussianBlur(image, (5, 5), 0)\n",
    "\n",
    "    # Apply manual thresholding\n",
    "    _, binary_mask = cv2.threshold(blurred_image, threshold_value, 255, cv2.THRESH_BINARY)\n",
    "\n",
    "    # Optional: Perform morphological operations to clean up the mask\n",
    "    kernel = np.ones((3, 3), np.uint8)\n",
    "    cleaned_mask = cv2.morphologyEx(binary_mask, cv2.MORPH_CLOSE, kernel)\n",
    "    cleaned_mask = cv2.morphologyEx(cleaned_mask, cv2.MORPH_OPEN, kernel)\n",
    "\n",
    "    # Save the binary mask as a TIFF image\n",
    "    cv2.imwrite(output_mask_path, cleaned_mask)\n"
   ]
  },
  {
   "cell_type": "code",
   "execution_count": 33,
   "id": "692ca22b",
   "metadata": {},
   "outputs": [],
   "source": [
    "def process_images(input_folder, output_folder):\n",
    "    # Create output folder if it doesn't exist\n",
    "    os.makedirs(output_folder, exist_ok=True)\n",
    "\n",
    "    # Iterate through all TIFF images in the input folder\n",
    "    for filename in os.listdir(input_folder):\n",
    "        if filename.endswith('.tiff') or filename.endswith('.tif'):\n",
    "            tiff_image_path = os.path.join(input_folder, filename)\n",
    "            output_mask_path = os.path.join(output_folder, filename.replace('.tif', '_mask.tif'))\n",
    "            \n",
    "            # Create binary mask\n",
    "            create_binary_mask(tiff_image_path, output_mask_path)\n",
    "            print(f\"Processed: {filename} -> Saved mask as {output_mask_path}\")\n"
   ]
  },
  {
   "cell_type": "code",
   "execution_count": 34,
   "id": "030ed1ef",
   "metadata": {},
   "outputs": [
    {
     "name": "stdout",
     "output_type": "stream",
     "text": [
      "Processed: flattened_position_13_C0.tif -> Saved mask as /Users/pallavisingh/Library/CloudStorage/OneDrive-SharedLibraries-DalhousieUniversity/Priyadharshini Sridharan - Images from Dellaire Lab/testop/flattened_position_13_C0_mask.tif\n"
     ]
    }
   ],
   "source": [
    "# # Code of masking non arsenic nucleus\n",
    "# input_folder = '/Users/pallavisingh/Library/CloudStorage/OneDrive-SharedLibraries-DalhousieUniversity/Priyadharshini Sridharan - Images from Dellaire Lab/binary_masking_test'   # Path to the folder containing TIFF images\n",
    "# output_folder = '/Users/pallavisingh/Library/CloudStorage/OneDrive-SharedLibraries-DalhousieUniversity/Priyadharshini Sridharan - Images from Dellaire Lab/testop'  # Path to the folder where masks will be saved\n",
    "# process_images(input_folder, output_folder)"
   ]
  },
  {
   "cell_type": "code",
   "execution_count": 36,
   "id": "e137a7f3",
   "metadata": {},
   "outputs": [
    {
     "name": "stdout",
     "output_type": "stream",
     "text": [
      "Processed: flattened_position_80_C0.tif -> Saved mask as /Users/pallavisingh/Library/CloudStorage/OneDrive-SharedLibraries-DalhousieUniversity/Priyadharshini Sridharan - Images from Dellaire Lab/input/binary_mask_nucleus_high_arsenic/flattened_position_80_C0_mask.tif\n",
      "Processed: flattened_position_38_C0.tif -> Saved mask as /Users/pallavisingh/Library/CloudStorage/OneDrive-SharedLibraries-DalhousieUniversity/Priyadharshini Sridharan - Images from Dellaire Lab/input/binary_mask_nucleus_high_arsenic/flattened_position_38_C0_mask.tif\n",
      "Processed: flattened_position_45_C0.tif -> Saved mask as /Users/pallavisingh/Library/CloudStorage/OneDrive-SharedLibraries-DalhousieUniversity/Priyadharshini Sridharan - Images from Dellaire Lab/input/binary_mask_nucleus_high_arsenic/flattened_position_45_C0_mask.tif\n",
      "Processed: flattened_position_26_C0.tif -> Saved mask as /Users/pallavisingh/Library/CloudStorage/OneDrive-SharedLibraries-DalhousieUniversity/Priyadharshini Sridharan - Images from Dellaire Lab/input/binary_mask_nucleus_high_arsenic/flattened_position_26_C0_mask.tif\n",
      "Processed: flattened_position_57_C0.tif -> Saved mask as /Users/pallavisingh/Library/CloudStorage/OneDrive-SharedLibraries-DalhousieUniversity/Priyadharshini Sridharan - Images from Dellaire Lab/input/binary_mask_nucleus_high_arsenic/flattened_position_57_C0_mask.tif\n",
      "Processed: flattened_position_34_C0.tif -> Saved mask as /Users/pallavisingh/Library/CloudStorage/OneDrive-SharedLibraries-DalhousieUniversity/Priyadharshini Sridharan - Images from Dellaire Lab/input/binary_mask_nucleus_high_arsenic/flattened_position_34_C0_mask.tif\n",
      "Processed: flattened_position_49_C0.tif -> Saved mask as /Users/pallavisingh/Library/CloudStorage/OneDrive-SharedLibraries-DalhousieUniversity/Priyadharshini Sridharan - Images from Dellaire Lab/input/binary_mask_nucleus_high_arsenic/flattened_position_49_C0_mask.tif\n",
      "Processed: flattened_position_6_C0.tif -> Saved mask as /Users/pallavisingh/Library/CloudStorage/OneDrive-SharedLibraries-DalhousieUniversity/Priyadharshini Sridharan - Images from Dellaire Lab/input/binary_mask_nucleus_high_arsenic/flattened_position_6_C0_mask.tif\n",
      "Processed: flattened_position_61_C0.tif -> Saved mask as /Users/pallavisingh/Library/CloudStorage/OneDrive-SharedLibraries-DalhousieUniversity/Priyadharshini Sridharan - Images from Dellaire Lab/input/binary_mask_nucleus_high_arsenic/flattened_position_61_C0_mask.tif\n",
      "Processed: flattened_position_73_C0.tif -> Saved mask as /Users/pallavisingh/Library/CloudStorage/OneDrive-SharedLibraries-DalhousieUniversity/Priyadharshini Sridharan - Images from Dellaire Lab/input/binary_mask_nucleus_high_arsenic/flattened_position_73_C0_mask.tif\n",
      "Processed: flattened_position_10_C0.tif -> Saved mask as /Users/pallavisingh/Library/CloudStorage/OneDrive-SharedLibraries-DalhousieUniversity/Priyadharshini Sridharan - Images from Dellaire Lab/input/binary_mask_nucleus_high_arsenic/flattened_position_10_C0_mask.tif\n",
      "Processed: flattened_position_36_C0.tif -> Saved mask as /Users/pallavisingh/Library/CloudStorage/OneDrive-SharedLibraries-DalhousieUniversity/Priyadharshini Sridharan - Images from Dellaire Lab/input/binary_mask_nucleus_high_arsenic/flattened_position_36_C0_mask.tif\n",
      "Processed: flattened_position_28_C0.tif -> Saved mask as /Users/pallavisingh/Library/CloudStorage/OneDrive-SharedLibraries-DalhousieUniversity/Priyadharshini Sridharan - Images from Dellaire Lab/input/binary_mask_nucleus_high_arsenic/flattened_position_28_C0_mask.tif\n",
      "Processed: flattened_position_55_C0.tif -> Saved mask as /Users/pallavisingh/Library/CloudStorage/OneDrive-SharedLibraries-DalhousieUniversity/Priyadharshini Sridharan - Images from Dellaire Lab/input/binary_mask_nucleus_high_arsenic/flattened_position_55_C0_mask.tif\n",
      "Processed: flattened_position_24_C0.tif -> Saved mask as /Users/pallavisingh/Library/CloudStorage/OneDrive-SharedLibraries-DalhousieUniversity/Priyadharshini Sridharan - Images from Dellaire Lab/input/binary_mask_nucleus_high_arsenic/flattened_position_24_C0_mask.tif\n",
      "Processed: flattened_position_59_C0.tif -> Saved mask as /Users/pallavisingh/Library/CloudStorage/OneDrive-SharedLibraries-DalhousieUniversity/Priyadharshini Sridharan - Images from Dellaire Lab/input/binary_mask_nucleus_high_arsenic/flattened_position_59_C0_mask.tif\n",
      "Processed: flattened_position_47_C0.tif -> Saved mask as /Users/pallavisingh/Library/CloudStorage/OneDrive-SharedLibraries-DalhousieUniversity/Priyadharshini Sridharan - Images from Dellaire Lab/input/binary_mask_nucleus_high_arsenic/flattened_position_47_C0_mask.tif\n",
      "Processed: flattened_position_12_C0.tif -> Saved mask as /Users/pallavisingh/Library/CloudStorage/OneDrive-SharedLibraries-DalhousieUniversity/Priyadharshini Sridharan - Images from Dellaire Lab/input/binary_mask_nucleus_high_arsenic/flattened_position_12_C0_mask.tif\n",
      "Processed: flattened_position_8_C0.tif -> Saved mask as /Users/pallavisingh/Library/CloudStorage/OneDrive-SharedLibraries-DalhousieUniversity/Priyadharshini Sridharan - Images from Dellaire Lab/input/binary_mask_nucleus_high_arsenic/flattened_position_8_C0_mask.tif\n",
      "Processed: flattened_position_71_C0.tif -> Saved mask as /Users/pallavisingh/Library/CloudStorage/OneDrive-SharedLibraries-DalhousieUniversity/Priyadharshini Sridharan - Images from Dellaire Lab/input/binary_mask_nucleus_high_arsenic/flattened_position_71_C0_mask.tif\n",
      "Processed: flattened_position_4_C0.tif -> Saved mask as /Users/pallavisingh/Library/CloudStorage/OneDrive-SharedLibraries-DalhousieUniversity/Priyadharshini Sridharan - Images from Dellaire Lab/input/binary_mask_nucleus_high_arsenic/flattened_position_4_C0_mask.tif\n",
      "Processed: flattened_position_63_C0.tif -> Saved mask as /Users/pallavisingh/Library/CloudStorage/OneDrive-SharedLibraries-DalhousieUniversity/Priyadharshini Sridharan - Images from Dellaire Lab/input/binary_mask_nucleus_high_arsenic/flattened_position_63_C0_mask.tif\n",
      "Processed: flattened_position_79_C0.tif -> Saved mask as /Users/pallavisingh/Library/CloudStorage/OneDrive-SharedLibraries-DalhousieUniversity/Priyadharshini Sridharan - Images from Dellaire Lab/input/binary_mask_nucleus_high_arsenic/flattened_position_79_C0_mask.tif\n",
      "Processed: flattened_position_67_C0.tif -> Saved mask as /Users/pallavisingh/Library/CloudStorage/OneDrive-SharedLibraries-DalhousieUniversity/Priyadharshini Sridharan - Images from Dellaire Lab/input/binary_mask_nucleus_high_arsenic/flattened_position_67_C0_mask.tif\n",
      "Processed: flattened_position_16_C0.tif -> Saved mask as /Users/pallavisingh/Library/CloudStorage/OneDrive-SharedLibraries-DalhousieUniversity/Priyadharshini Sridharan - Images from Dellaire Lab/input/binary_mask_nucleus_high_arsenic/flattened_position_16_C0_mask.tif\n",
      "Processed: flattened_position_75_C0.tif -> Saved mask as /Users/pallavisingh/Library/CloudStorage/OneDrive-SharedLibraries-DalhousieUniversity/Priyadharshini Sridharan - Images from Dellaire Lab/input/binary_mask_nucleus_high_arsenic/flattened_position_75_C0_mask.tif\n",
      "Processed: flattened_position_20_C0.tif -> Saved mask as /Users/pallavisingh/Library/CloudStorage/OneDrive-SharedLibraries-DalhousieUniversity/Priyadharshini Sridharan - Images from Dellaire Lab/input/binary_mask_nucleus_high_arsenic/flattened_position_20_C0_mask.tif\n",
      "Processed: flattened_position_43_C0.tif -> Saved mask as /Users/pallavisingh/Library/CloudStorage/OneDrive-SharedLibraries-DalhousieUniversity/Priyadharshini Sridharan - Images from Dellaire Lab/input/binary_mask_nucleus_high_arsenic/flattened_position_43_C0_mask.tif\n",
      "Processed: flattened_position_32_C0.tif -> Saved mask as /Users/pallavisingh/Library/CloudStorage/OneDrive-SharedLibraries-DalhousieUniversity/Priyadharshini Sridharan - Images from Dellaire Lab/input/binary_mask_nucleus_high_arsenic/flattened_position_32_C0_mask.tif\n",
      "Processed: flattened_position_51_C0.tif -> Saved mask as /Users/pallavisingh/Library/CloudStorage/OneDrive-SharedLibraries-DalhousieUniversity/Priyadharshini Sridharan - Images from Dellaire Lab/input/binary_mask_nucleus_high_arsenic/flattened_position_51_C0_mask.tif\n",
      "Processed: flattened_position_77_C0.tif -> Saved mask as /Users/pallavisingh/Library/CloudStorage/OneDrive-SharedLibraries-DalhousieUniversity/Priyadharshini Sridharan - Images from Dellaire Lab/input/binary_mask_nucleus_high_arsenic/flattened_position_77_C0_mask.tif\n",
      "Processed: flattened_position_69_C0.tif -> Saved mask as /Users/pallavisingh/Library/CloudStorage/OneDrive-SharedLibraries-DalhousieUniversity/Priyadharshini Sridharan - Images from Dellaire Lab/input/binary_mask_nucleus_high_arsenic/flattened_position_69_C0_mask.tif\n",
      "Processed: flattened_position_14_C0.tif -> Saved mask as /Users/pallavisingh/Library/CloudStorage/OneDrive-SharedLibraries-DalhousieUniversity/Priyadharshini Sridharan - Images from Dellaire Lab/input/binary_mask_nucleus_high_arsenic/flattened_position_14_C0_mask.tif\n",
      "Processed: flattened_position_65_C0.tif -> Saved mask as /Users/pallavisingh/Library/CloudStorage/OneDrive-SharedLibraries-DalhousieUniversity/Priyadharshini Sridharan - Images from Dellaire Lab/input/binary_mask_nucleus_high_arsenic/flattened_position_65_C0_mask.tif\n",
      "Processed: flattened_position_18_C0.tif -> Saved mask as /Users/pallavisingh/Library/CloudStorage/OneDrive-SharedLibraries-DalhousieUniversity/Priyadharshini Sridharan - Images from Dellaire Lab/input/binary_mask_nucleus_high_arsenic/flattened_position_18_C0_mask.tif\n",
      "Processed: flattened_position_2_C0.tif -> Saved mask as /Users/pallavisingh/Library/CloudStorage/OneDrive-SharedLibraries-DalhousieUniversity/Priyadharshini Sridharan - Images from Dellaire Lab/input/binary_mask_nucleus_high_arsenic/flattened_position_2_C0_mask.tif\n",
      "Processed: flattened_position_53_C0.tif -> Saved mask as /Users/pallavisingh/Library/CloudStorage/OneDrive-SharedLibraries-DalhousieUniversity/Priyadharshini Sridharan - Images from Dellaire Lab/input/binary_mask_nucleus_high_arsenic/flattened_position_53_C0_mask.tif\n",
      "Processed: flattened_position_30_C0.tif -> Saved mask as /Users/pallavisingh/Library/CloudStorage/OneDrive-SharedLibraries-DalhousieUniversity/Priyadharshini Sridharan - Images from Dellaire Lab/input/binary_mask_nucleus_high_arsenic/flattened_position_30_C0_mask.tif\n",
      "Processed: flattened_position_41_C0.tif -> Saved mask as /Users/pallavisingh/Library/CloudStorage/OneDrive-SharedLibraries-DalhousieUniversity/Priyadharshini Sridharan - Images from Dellaire Lab/input/binary_mask_nucleus_high_arsenic/flattened_position_41_C0_mask.tif\n",
      "Processed: flattened_position_22_C0.tif -> Saved mask as /Users/pallavisingh/Library/CloudStorage/OneDrive-SharedLibraries-DalhousieUniversity/Priyadharshini Sridharan - Images from Dellaire Lab/input/binary_mask_nucleus_high_arsenic/flattened_position_22_C0_mask.tif\n",
      "Processed: flattened_position_60_C0.tif -> Saved mask as /Users/pallavisingh/Library/CloudStorage/OneDrive-SharedLibraries-DalhousieUniversity/Priyadharshini Sridharan - Images from Dellaire Lab/input/binary_mask_nucleus_high_arsenic/flattened_position_60_C0_mask.tif\n",
      "Processed: flattened_position_7_C0.tif -> Saved mask as /Users/pallavisingh/Library/CloudStorage/OneDrive-SharedLibraries-DalhousieUniversity/Priyadharshini Sridharan - Images from Dellaire Lab/input/binary_mask_nucleus_high_arsenic/flattened_position_7_C0_mask.tif\n",
      "Processed: flattened_position_11_C0.tif -> Saved mask as /Users/pallavisingh/Library/CloudStorage/OneDrive-SharedLibraries-DalhousieUniversity/Priyadharshini Sridharan - Images from Dellaire Lab/input/binary_mask_nucleus_high_arsenic/flattened_position_11_C0_mask.tif\n",
      "Processed: flattened_position_72_C0.tif -> Saved mask as /Users/pallavisingh/Library/CloudStorage/OneDrive-SharedLibraries-DalhousieUniversity/Priyadharshini Sridharan - Images from Dellaire Lab/input/binary_mask_nucleus_high_arsenic/flattened_position_72_C0_mask.tif\n",
      "Processed: flattened_position_27_C0.tif -> Saved mask as /Users/pallavisingh/Library/CloudStorage/OneDrive-SharedLibraries-DalhousieUniversity/Priyadharshini Sridharan - Images from Dellaire Lab/input/binary_mask_nucleus_high_arsenic/flattened_position_27_C0_mask.tif\n",
      "Processed: flattened_position_44_C0.tif -> Saved mask as /Users/pallavisingh/Library/CloudStorage/OneDrive-SharedLibraries-DalhousieUniversity/Priyadharshini Sridharan - Images from Dellaire Lab/input/binary_mask_nucleus_high_arsenic/flattened_position_44_C0_mask.tif\n",
      "Processed: flattened_position_39_C0.tif -> Saved mask as /Users/pallavisingh/Library/CloudStorage/OneDrive-SharedLibraries-DalhousieUniversity/Priyadharshini Sridharan - Images from Dellaire Lab/input/binary_mask_nucleus_high_arsenic/flattened_position_39_C0_mask.tif\n",
      "Processed: flattened_position_48_C0.tif -> Saved mask as /Users/pallavisingh/Library/CloudStorage/OneDrive-SharedLibraries-DalhousieUniversity/Priyadharshini Sridharan - Images from Dellaire Lab/input/binary_mask_nucleus_high_arsenic/flattened_position_48_C0_mask.tif\n",
      "Processed: flattened_position_35_C0.tif -> Saved mask as /Users/pallavisingh/Library/CloudStorage/OneDrive-SharedLibraries-DalhousieUniversity/Priyadharshini Sridharan - Images from Dellaire Lab/input/binary_mask_nucleus_high_arsenic/flattened_position_35_C0_mask.tif\n",
      "Processed: flattened_position_56_C0.tif -> Saved mask as /Users/pallavisingh/Library/CloudStorage/OneDrive-SharedLibraries-DalhousieUniversity/Priyadharshini Sridharan - Images from Dellaire Lab/input/binary_mask_nucleus_high_arsenic/flattened_position_56_C0_mask.tif\n",
      "Processed: flattened_position_70_C0.tif -> Saved mask as /Users/pallavisingh/Library/CloudStorage/OneDrive-SharedLibraries-DalhousieUniversity/Priyadharshini Sridharan - Images from Dellaire Lab/input/binary_mask_nucleus_high_arsenic/flattened_position_70_C0_mask.tif\n",
      "Processed: flattened_position_13_C0.tif -> Saved mask as /Users/pallavisingh/Library/CloudStorage/OneDrive-SharedLibraries-DalhousieUniversity/Priyadharshini Sridharan - Images from Dellaire Lab/input/binary_mask_nucleus_high_arsenic/flattened_position_13_C0_mask.tif\n",
      "Processed: flattened_position_9_C0.tif -> Saved mask as /Users/pallavisingh/Library/CloudStorage/OneDrive-SharedLibraries-DalhousieUniversity/Priyadharshini Sridharan - Images from Dellaire Lab/input/binary_mask_nucleus_high_arsenic/flattened_position_9_C0_mask.tif\n",
      "Processed: flattened_position_62_C0.tif -> Saved mask as /Users/pallavisingh/Library/CloudStorage/OneDrive-SharedLibraries-DalhousieUniversity/Priyadharshini Sridharan - Images from Dellaire Lab/input/binary_mask_nucleus_high_arsenic/flattened_position_62_C0_mask.tif\n",
      "Processed: flattened_position_5_C0.tif -> Saved mask as /Users/pallavisingh/Library/CloudStorage/OneDrive-SharedLibraries-DalhousieUniversity/Priyadharshini Sridharan - Images from Dellaire Lab/input/binary_mask_nucleus_high_arsenic/flattened_position_5_C0_mask.tif\n",
      "Processed: flattened_position_54_C0.tif -> Saved mask as /Users/pallavisingh/Library/CloudStorage/OneDrive-SharedLibraries-DalhousieUniversity/Priyadharshini Sridharan - Images from Dellaire Lab/input/binary_mask_nucleus_high_arsenic/flattened_position_54_C0_mask.tif\n",
      "Processed: flattened_position_29_C0.tif -> Saved mask as /Users/pallavisingh/Library/CloudStorage/OneDrive-SharedLibraries-DalhousieUniversity/Priyadharshini Sridharan - Images from Dellaire Lab/input/binary_mask_nucleus_high_arsenic/flattened_position_29_C0_mask.tif\n",
      "Processed: flattened_position_37_C0.tif -> Saved mask as /Users/pallavisingh/Library/CloudStorage/OneDrive-SharedLibraries-DalhousieUniversity/Priyadharshini Sridharan - Images from Dellaire Lab/input/binary_mask_nucleus_high_arsenic/flattened_position_37_C0_mask.tif\n",
      "Processed: flattened_position_46_C0.tif -> Saved mask as /Users/pallavisingh/Library/CloudStorage/OneDrive-SharedLibraries-DalhousieUniversity/Priyadharshini Sridharan - Images from Dellaire Lab/input/binary_mask_nucleus_high_arsenic/flattened_position_46_C0_mask.tif\n",
      "Processed: flattened_position_58_C0.tif -> Saved mask as /Users/pallavisingh/Library/CloudStorage/OneDrive-SharedLibraries-DalhousieUniversity/Priyadharshini Sridharan - Images from Dellaire Lab/input/binary_mask_nucleus_high_arsenic/flattened_position_58_C0_mask.tif\n",
      "Processed: flattened_position_25_C0.tif -> Saved mask as /Users/pallavisingh/Library/CloudStorage/OneDrive-SharedLibraries-DalhousieUniversity/Priyadharshini Sridharan - Images from Dellaire Lab/input/binary_mask_nucleus_high_arsenic/flattened_position_25_C0_mask.tif\n",
      "Processed: flattened_position_42_C0.tif -> Saved mask as /Users/pallavisingh/Library/CloudStorage/OneDrive-SharedLibraries-DalhousieUniversity/Priyadharshini Sridharan - Images from Dellaire Lab/input/binary_mask_nucleus_high_arsenic/flattened_position_42_C0_mask.tif\n",
      "Processed: flattened_position_21_C0.tif -> Saved mask as /Users/pallavisingh/Library/CloudStorage/OneDrive-SharedLibraries-DalhousieUniversity/Priyadharshini Sridharan - Images from Dellaire Lab/input/binary_mask_nucleus_high_arsenic/flattened_position_21_C0_mask.tif\n",
      "Processed: flattened_position_50_C0.tif -> Saved mask as /Users/pallavisingh/Library/CloudStorage/OneDrive-SharedLibraries-DalhousieUniversity/Priyadharshini Sridharan - Images from Dellaire Lab/input/binary_mask_nucleus_high_arsenic/flattened_position_50_C0_mask.tif\n",
      "Processed: flattened_position_33_C0.tif -> Saved mask as /Users/pallavisingh/Library/CloudStorage/OneDrive-SharedLibraries-DalhousieUniversity/Priyadharshini Sridharan - Images from Dellaire Lab/input/binary_mask_nucleus_high_arsenic/flattened_position_33_C0_mask.tif\n",
      "Processed: flattened_position_1_C0.tif -> Saved mask as /Users/pallavisingh/Library/CloudStorage/OneDrive-SharedLibraries-DalhousieUniversity/Priyadharshini Sridharan - Images from Dellaire Lab/input/binary_mask_nucleus_high_arsenic/flattened_position_1_C0_mask.tif\n",
      "Processed: flattened_position_66_C0.tif -> Saved mask as /Users/pallavisingh/Library/CloudStorage/OneDrive-SharedLibraries-DalhousieUniversity/Priyadharshini Sridharan - Images from Dellaire Lab/input/binary_mask_nucleus_high_arsenic/flattened_position_66_C0_mask.tif\n",
      "Processed: flattened_position_78_C0.tif -> Saved mask as /Users/pallavisingh/Library/CloudStorage/OneDrive-SharedLibraries-DalhousieUniversity/Priyadharshini Sridharan - Images from Dellaire Lab/input/binary_mask_nucleus_high_arsenic/flattened_position_78_C0_mask.tif\n",
      "Processed: flattened_position_74_C0.tif -> Saved mask as /Users/pallavisingh/Library/CloudStorage/OneDrive-SharedLibraries-DalhousieUniversity/Priyadharshini Sridharan - Images from Dellaire Lab/input/binary_mask_nucleus_high_arsenic/flattened_position_74_C0_mask.tif\n",
      "Processed: flattened_position_17_C0.tif -> Saved mask as /Users/pallavisingh/Library/CloudStorage/OneDrive-SharedLibraries-DalhousieUniversity/Priyadharshini Sridharan - Images from Dellaire Lab/input/binary_mask_nucleus_high_arsenic/flattened_position_17_C0_mask.tif\n",
      "Processed: flattened_position_31_C0.tif -> Saved mask as /Users/pallavisingh/Library/CloudStorage/OneDrive-SharedLibraries-DalhousieUniversity/Priyadharshini Sridharan - Images from Dellaire Lab/input/binary_mask_nucleus_high_arsenic/flattened_position_31_C0_mask.tif\n",
      "Processed: flattened_position_52_C0.tif -> Saved mask as /Users/pallavisingh/Library/CloudStorage/OneDrive-SharedLibraries-DalhousieUniversity/Priyadharshini Sridharan - Images from Dellaire Lab/input/binary_mask_nucleus_high_arsenic/flattened_position_52_C0_mask.tif\n",
      "Processed: flattened_position_23_C0.tif -> Saved mask as /Users/pallavisingh/Library/CloudStorage/OneDrive-SharedLibraries-DalhousieUniversity/Priyadharshini Sridharan - Images from Dellaire Lab/input/binary_mask_nucleus_high_arsenic/flattened_position_23_C0_mask.tif\n",
      "Processed: flattened_position_40_C0.tif -> Saved mask as /Users/pallavisingh/Library/CloudStorage/OneDrive-SharedLibraries-DalhousieUniversity/Priyadharshini Sridharan - Images from Dellaire Lab/input/binary_mask_nucleus_high_arsenic/flattened_position_40_C0_mask.tif\n",
      "Processed: flattened_position_15_C0.tif -> Saved mask as /Users/pallavisingh/Library/CloudStorage/OneDrive-SharedLibraries-DalhousieUniversity/Priyadharshini Sridharan - Images from Dellaire Lab/input/binary_mask_nucleus_high_arsenic/flattened_position_15_C0_mask.tif\n",
      "Processed: flattened_position_68_C0.tif -> Saved mask as /Users/pallavisingh/Library/CloudStorage/OneDrive-SharedLibraries-DalhousieUniversity/Priyadharshini Sridharan - Images from Dellaire Lab/input/binary_mask_nucleus_high_arsenic/flattened_position_68_C0_mask.tif\n",
      "Processed: flattened_position_76_C0.tif -> Saved mask as /Users/pallavisingh/Library/CloudStorage/OneDrive-SharedLibraries-DalhousieUniversity/Priyadharshini Sridharan - Images from Dellaire Lab/input/binary_mask_nucleus_high_arsenic/flattened_position_76_C0_mask.tif\n",
      "Processed: flattened_position_19_C0.tif -> Saved mask as /Users/pallavisingh/Library/CloudStorage/OneDrive-SharedLibraries-DalhousieUniversity/Priyadharshini Sridharan - Images from Dellaire Lab/input/binary_mask_nucleus_high_arsenic/flattened_position_19_C0_mask.tif\n",
      "Processed: flattened_position_3_C0.tif -> Saved mask as /Users/pallavisingh/Library/CloudStorage/OneDrive-SharedLibraries-DalhousieUniversity/Priyadharshini Sridharan - Images from Dellaire Lab/input/binary_mask_nucleus_high_arsenic/flattened_position_3_C0_mask.tif\n",
      "Processed: flattened_position_64_C0.tif -> Saved mask as /Users/pallavisingh/Library/CloudStorage/OneDrive-SharedLibraries-DalhousieUniversity/Priyadharshini Sridharan - Images from Dellaire Lab/input/binary_mask_nucleus_high_arsenic/flattened_position_64_C0_mask.tif\n"
     ]
    }
   ],
   "source": [
    "# Code of masking non arsenic nucleus\n",
    "input_folder = '/Users/pallavisingh/Library/CloudStorage/OneDrive-SharedLibraries-DalhousieUniversity/Priyadharshini Sridharan - Images from Dellaire Lab/input/Nuclei and pml training image data/merged-dapi-high-arsenic'   # Path to the folder containing TIFF images\n",
    "output_folder = '/Users/pallavisingh/Library/CloudStorage/OneDrive-SharedLibraries-DalhousieUniversity/Priyadharshini Sridharan - Images from Dellaire Lab/input/binary_mask_nucleus_high_arsenic'  # Path to the folder where masks will be saved\n",
    "process_images(input_folder, output_folder)"
   ]
  },
  {
   "cell_type": "code",
   "execution_count": null,
   "id": "14d48310",
   "metadata": {},
   "outputs": [],
   "source": []
  }
 ],
 "metadata": {
  "kernelspec": {
   "display_name": "Python 3 (ipykernel)",
   "language": "python",
   "name": "python3"
  },
  "language_info": {
   "codemirror_mode": {
    "name": "ipython",
    "version": 3
   },
   "file_extension": ".py",
   "mimetype": "text/x-python",
   "name": "python",
   "nbconvert_exporter": "python",
   "pygments_lexer": "ipython3",
   "version": "3.11.5"
  }
 },
 "nbformat": 4,
 "nbformat_minor": 5
}
